{
 "cells": [
  {
   "cell_type": "code",
   "execution_count": null,
   "metadata": {},
   "outputs": [],
   "source": [
    "import TWIML_codenames\n",
    "import random"
   ]
  },
  {
   "cell_type": "code",
   "execution_count": null,
   "metadata": {},
   "outputs": [],
   "source": [
    "# create a wordlist from which the gameboard words will be selected\n",
    "wordlist=['phone','write','trash','baker','cell','book','guitar','couch','diploma','car','hot','glass','paint','coffee','tissue','Christmas','toot','airplane','student','run','goofy','headphones','married','hotel','last']"
   ]
  },
  {
   "cell_type": "code",
   "execution_count": null,
   "metadata": {},
   "outputs": [],
   "source": [
    "# create a list that stores all the players in the competition\n",
    "playerlist=[]\n",
    "for i in range(10):\n",
    "    # The competitors submissions will each go in their own unique folder. \n",
    "    # The folder and the filename of the main file (the one with the generate_clue() and generate_guesses functions()) will \n",
    "        # be used to create the player object\n",
    "    # I have created 4 simple placeholder models to stand in for competitors' entries. 1 will be chosen at random for each player\n",
    "    playerlist.append(TWIML_codenames.Player(player_id = i,\n",
    "                                             files_location = 'C:/Users/dhilg/OneDrive/Documents/Dan/Python/Codenames/models',\n",
    "                                             model_filename = 'simplemodel'+str(random.randint(1,4))+'.py'\n",
    "                                            ))"
   ]
  },
  {
   "cell_type": "code",
   "execution_count": null,
   "metadata": {},
   "outputs": [],
   "source": [
    "# Create a gameboard\n",
    "gameboard = TWIML_codenames.Gameboard(wordlist)"
   ]
  },
  {
   "cell_type": "code",
   "execution_count": null,
   "metadata": {},
   "outputs": [],
   "source": [
    "#view board & key:\n",
    "print('board words:')\n",
    "print(gameboard.boardwords)\n",
    "print('')\n",
    "print('board key:')\n",
    "print(gameboard.boardkey)"
   ]
  },
  {
   "cell_type": "code",
   "execution_count": null,
   "metadata": {},
   "outputs": [],
   "source": [
    "# create a game\n",
    "game=TWIML_codenames.Game(gameboard = gameboard,\n",
    "                          team1 = [playerlist[0],\n",
    "                                   playerlist[1]],\n",
    "                          team2 = [playerlist[2],\n",
    "                                   playerlist[3]])\n"
   ]
  },
  {
   "cell_type": "code",
   "execution_count": null,
   "metadata": {},
   "outputs": [],
   "source": [
    "# run a game\n",
    "winning_team, winning_team_number, end_state = game.run_game()"
   ]
  },
  {
   "cell_type": "code",
   "execution_count": null,
   "metadata": {},
   "outputs": [],
   "source": [
    "#view results:\n",
    "print(f'winning_team_number: {winning_team_number}')\n",
    "print('')\n",
    "print('end board state:')\n",
    "print(end_state.boardmarkers)"
   ]
  },
  {
   "cell_type": "code",
   "execution_count": null,
   "metadata": {},
   "outputs": [],
   "source": [
    "#view winning player ratings\n",
    "for player in winning_team:\n",
    "    print(f'Player {player.player_id} : Spymaster Elo = {player.Elo[\"Spymaster\"]:.2f}   W-L = {player.record[\"Spymaster\"][\"W\"]}-{player.record[\"Spymaster\"][\"L\"]}')\n",
    "    print(f'Player {player.player_id} : Operative Elo = {player.Elo[\"Operative\"]:.2f}   W-L = {player.record[\"Operative\"][\"W\"]}-{player.record[\"Operative\"][\"L\"]}')"
   ]
  },
  {
   "cell_type": "code",
   "execution_count": null,
   "metadata": {},
   "outputs": [],
   "source": [
    "%%time\n",
    "\n",
    "#Run many games\n",
    "for i in range(1000):\n",
    "    random.shuffle(playerlist) # so each team is a random pair from the playerlist\n",
    "    game=TWIML_codenames.Game(gameboard = TWIML_codenames.Gameboard(wordlist),\n",
    "                              team1 = playerlist[0:2],\n",
    "                              team2 = playerlist[2:4])\n",
    "    game.run_game()"
   ]
  },
  {
   "cell_type": "code",
   "execution_count": null,
   "metadata": {},
   "outputs": [],
   "source": [
    "#view all player ratings\n",
    "playerlist.sort(key=lambda x: x.player_id)\n",
    "for player in playerlist:\n",
    "    print(f'Player {player.player_id}: Spymaster Elo = {player.Elo[\"Spymaster\"]:.2f}   W-L = {player.record[\"Spymaster\"][\"W\"]}-{player.record[\"Spymaster\"][\"L\"]}')\n",
    "    print(f'Player {player.player_id}: Operative Elo = {player.Elo[\"Operative\"]:.2f}   W-L = {player.record[\"Operative\"][\"W\"]}-{player.record[\"Operative\"][\"L\"]}')"
   ]
  },
  {
   "cell_type": "code",
   "execution_count": null,
   "metadata": {},
   "outputs": [],
   "source": []
  }
 ],
 "metadata": {
  "kernelspec": {
   "display_name": "Python 3",
   "language": "python",
   "name": "python3"
  },
  "language_info": {
   "codemirror_mode": {
    "name": "ipython",
    "version": 3
   },
   "file_extension": ".py",
   "mimetype": "text/x-python",
   "name": "python",
   "nbconvert_exporter": "python",
   "pygments_lexer": "ipython3",
   "version": "3.8.3"
  }
 },
 "nbformat": 4,
 "nbformat_minor": 4
}
