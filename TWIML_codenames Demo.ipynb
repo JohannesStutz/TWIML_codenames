{
 "cells": [
  {
   "cell_type": "code",
   "execution_count": 1,
   "metadata": {},
   "outputs": [],
   "source": [
    "import TWIML_codenames\n",
    "import random"
   ]
  },
  {
   "cell_type": "code",
   "execution_count": 2,
   "metadata": {},
   "outputs": [],
   "source": [
    "# create a wordlist from which the gameboard words will be selected\n",
    "wordlist=['phone','write','trash','baker','cell','book','guitar','couch','diploma','car','hot','glass','paint','coffee','tissue','Christmas','toot','airplane','student','run','goofy','headphones','married','hotel','last']"
   ]
  },
  {
   "cell_type": "code",
   "execution_count": 3,
   "metadata": {},
   "outputs": [],
   "source": [
    "# create a list that stores all the players in the competition\n",
    "playerlist=[]\n",
    "for i in range(10):\n",
    "    # The competitors submissions will each go in their own unique folder. \n",
    "    # The folder and the filename of the main file (the one with the generate_clue() and generate_guesses functions()) will \n",
    "        # be used to create the player object\n",
    "    # I have created 4 simple placeholder models to stand in for competitors' entries. 1 will be chosen at random for each player\n",
    "    playerlist.append(TWIML_codenames.Player(player_id = i,\n",
    "                                             files_location = 'C:/Users/dhilg/OneDrive/Documents/Dan/Python/Codenames/models',\n",
    "                                             model_filename = 'simplemodel'+str(random.randint(1,4))+'.py'\n",
    "                                            ))"
   ]
  },
  {
   "cell_type": "code",
   "execution_count": 4,
   "metadata": {},
   "outputs": [],
   "source": [
    "# Create a gameboard\n",
    "gameboard = TWIML_codenames.Gameboard(wordlist)"
   ]
  },
  {
   "cell_type": "code",
   "execution_count": 5,
   "metadata": {},
   "outputs": [
    {
     "name": "stdout",
     "output_type": "stream",
     "text": [
      "board words:\n",
      "[['student' 'write' 'phone' 'book' 'tissue']\n",
      " ['last' 'cell' 'baker' 'toot' 'guitar']\n",
      " ['airplane' 'coffee' 'glass' 'married' 'hotel']\n",
      " ['hot' 'diploma' 'Christmas' 'headphones' 'run']\n",
      " ['car' 'trash' 'paint' 'goofy' 'couch']]\n",
      "\n",
      "board key:\n",
      "[[-1  2  2  1  0]\n",
      " [ 1  1  1  0  1]\n",
      " [ 2  2  2  2  1]\n",
      " [ 2  1  0  0  1]\n",
      " [ 0  0  1  2  0]]\n"
     ]
    }
   ],
   "source": [
    "#view board & key:\n",
    "print('board words:')\n",
    "print(gameboard.boardwords)\n",
    "print('')\n",
    "print('board key:')\n",
    "print(gameboard.boardkey)"
   ]
  },
  {
   "cell_type": "code",
   "execution_count": 6,
   "metadata": {},
   "outputs": [],
   "source": [
    "# create a game\n",
    "game=TWIML_codenames.Game(gameboard = gameboard,\n",
    "                          team1 = [playerlist[0],\n",
    "                                   playerlist[1]],\n",
    "                          team2 = [playerlist[2],\n",
    "                                   playerlist[3]])\n"
   ]
  },
  {
   "cell_type": "code",
   "execution_count": 7,
   "metadata": {},
   "outputs": [],
   "source": [
    "# run a game\n",
    "winning_team, winning_team_number, end_state = game.run_game()"
   ]
  },
  {
   "cell_type": "code",
   "execution_count": 8,
   "metadata": {},
   "outputs": [
    {
     "name": "stdout",
     "output_type": "stream",
     "text": [
      "winning_team_number: 1\n",
      "\n",
      "end board state:\n",
      "[[nan nan nan  1. nan]\n",
      " [ 1.  1.  1.  0.  1.]\n",
      " [ 2.  2.  2.  2.  1.]\n",
      " [ 2.  1.  0. nan  1.]\n",
      " [ 0.  0.  1. nan  0.]]\n"
     ]
    }
   ],
   "source": [
    "#view results:\n",
    "print(f'winning_team_number: {winning_team_number}')\n",
    "print('')\n",
    "print('end board state:')\n",
    "print(end_state.boardmarkers)"
   ]
  },
  {
   "cell_type": "code",
   "execution_count": 9,
   "metadata": {},
   "outputs": [
    {
     "name": "stdout",
     "output_type": "stream",
     "text": [
      "Player 0 : Spymaster Elo = 1510.00   W-L = 1-0\n",
      "Player 0 : Operative Elo = 1500.00   W-L = 0-0\n",
      "Player 1 : Spymaster Elo = 1500.00   W-L = 0-0\n",
      "Player 1 : Operative Elo = 1510.00   W-L = 1-0\n"
     ]
    }
   ],
   "source": [
    "#view winning player ratings\n",
    "for player in winning_team:\n",
    "    print(f'Player {player.player_id} : Spymaster Elo = {player.Elo[\"Spymaster\"]:.2f}   W-L = {player.record[\"Spymaster\"][\"W\"]}-{player.record[\"Spymaster\"][\"L\"]}')\n",
    "    print(f'Player {player.player_id} : Operative Elo = {player.Elo[\"Operative\"]:.2f}   W-L = {player.record[\"Operative\"][\"W\"]}-{player.record[\"Operative\"][\"L\"]}')"
   ]
  },
  {
   "cell_type": "code",
   "execution_count": 10,
   "metadata": {},
   "outputs": [
    {
     "name": "stdout",
     "output_type": "stream",
     "text": [
      "Wall time: 4.67 s\n"
     ]
    }
   ],
   "source": [
    "%%time\n",
    "\n",
    "#Run many games\n",
    "for i in range(1000):\n",
    "    random.shuffle(playerlist) # so each team is a random pair from the playerlist\n",
    "    game=TWIML_codenames.Game(gameboard = TWIML_codenames.Gameboard(wordlist),\n",
    "                              team1 = playerlist[0:2],\n",
    "                              team2 = playerlist[2:4])\n",
    "    game.run_game()"
   ]
  },
  {
   "cell_type": "code",
   "execution_count": 11,
   "metadata": {},
   "outputs": [
    {
     "name": "stdout",
     "output_type": "stream",
     "text": [
      "Player 0: Spymaster Elo = 1413.52   W-L = 86-102\n",
      "Player 0: Operative Elo = 1534.88   W-L = 107-112\n",
      "Player 1: Spymaster Elo = 1547.94   W-L = 110-97\n",
      "Player 1: Operative Elo = 1374.21   W-L = 103-114\n",
      "Player 2: Spymaster Elo = 1412.26   W-L = 97-126\n",
      "Player 2: Operative Elo = 1458.15   W-L = 101-98\n",
      "Player 3: Spymaster Elo = 1451.61   W-L = 104-107\n",
      "Player 3: Operative Elo = 1527.19   W-L = 95-84\n",
      "Player 4: Spymaster Elo = 1491.67   W-L = 120-95\n",
      "Player 4: Operative Elo = 1543.89   W-L = 99-103\n",
      "Player 5: Spymaster Elo = 1517.04   W-L = 94-105\n",
      "Player 5: Operative Elo = 1497.71   W-L = 106-112\n",
      "Player 6: Spymaster Elo = 1523.81   W-L = 107-104\n",
      "Player 6: Operative Elo = 1590.87   W-L = 120-96\n",
      "Player 7: Spymaster Elo = 1522.19   W-L = 108-114\n",
      "Player 7: Operative Elo = 1497.30   W-L = 102-101\n",
      "Player 8: Spymaster Elo = 1554.78   W-L = 101-92\n",
      "Player 8: Operative Elo = 1473.57   W-L = 107-109\n",
      "Player 9: Spymaster Elo = 1565.19   W-L = 114-99\n",
      "Player 9: Operative Elo = 1502.24   W-L = 101-112\n"
     ]
    }
   ],
   "source": [
    "#view all player ratings\n",
    "playerlist.sort(key=lambda x: x.player_id)\n",
    "for player in playerlist:\n",
    "    print(f'Player {player.player_id}: Spymaster Elo = {player.Elo[\"Spymaster\"]:.2f}   W-L = {player.record[\"Spymaster\"][\"W\"]}-{player.record[\"Spymaster\"][\"L\"]}')\n",
    "    print(f'Player {player.player_id}: Operative Elo = {player.Elo[\"Operative\"]:.2f}   W-L = {player.record[\"Operative\"][\"W\"]}-{player.record[\"Operative\"][\"L\"]}')"
   ]
  },
  {
   "cell_type": "code",
   "execution_count": null,
   "metadata": {},
   "outputs": [],
   "source": []
  }
 ],
 "metadata": {
  "kernelspec": {
   "display_name": "Python 3",
   "language": "python",
   "name": "python3"
  },
  "language_info": {
   "codemirror_mode": {
    "name": "ipython",
    "version": 3
   },
   "file_extension": ".py",
   "mimetype": "text/x-python",
   "name": "python",
   "nbconvert_exporter": "python",
   "pygments_lexer": "ipython3",
   "version": "3.8.3"
  }
 },
 "nbformat": 4,
 "nbformat_minor": 4
}
